{
 "cells": [
  {
   "cell_type": "code",
   "execution_count": 2,
   "metadata": {},
   "outputs": [],
   "source": [
    "import papermill as pm"
   ]
  },
  {
   "cell_type": "markdown",
   "metadata": {},
   "source": [
    "### Note: Papermill requires IPython 7.0.0 or higher"
   ]
  },
  {
   "cell_type": "markdown",
   "metadata": {},
   "source": [
    "#### Food Prices Data"
   ]
  },
  {
   "cell_type": "code",
   "execution_count": 3,
   "metadata": {},
   "outputs": [
    {
     "data": {
      "application/vnd.jupyter.widget-view+json": {
       "model_id": "b5fc8e9426a44f9d9d9f9d5bff1f4086",
       "version_major": 2,
       "version_minor": 0
      },
      "text/plain": [
       "HBox(children=(HTML(value='Executing'), FloatProgress(value=0.0, max=16.0), HTML(value='')))"
      ]
     },
     "metadata": {},
     "output_type": "display_data"
    },
    {
     "name": "stdout",
     "output_type": "stream",
     "text": [
      "\n"
     ]
    }
   ],
   "source": [
    "pm.execute_notebook(\n",
    "   'DataLoader.ipynb',\n",
    "   'Kimetrica_Price_Data.ipynb',\n",
    "   parameters=dict(datamart_api_url='http://localhost:12543', \n",
    "                   annotated_path='annotated/Kimetrica Ethiopia Price Data with lat long_2014-2017_ANNOTATED.xlsx')\n",
    ");"
   ]
  },
  {
   "cell_type": "code",
   "execution_count": 5,
   "metadata": {
    "scrolled": false
   },
   "outputs": [
    {
     "data": {
      "application/vnd.jupyter.widget-view+json": {
       "model_id": "0fc7225232d147abb0012b0222d11fd5",
       "version_major": 2,
       "version_minor": 0
      },
      "text/plain": [
       "HBox(children=(HTML(value='Executing'), FloatProgress(value=0.0, max=16.0), HTML(value='')))"
      ]
     },
     "metadata": {},
     "output_type": "display_data"
    },
    {
     "name": "stdout",
     "output_type": "stream",
     "text": [
      "\n"
     ]
    }
   ],
   "source": [
    "pm.execute_notebook(\n",
    "   'DataLoader.ipynb',\n",
    "   'WFP_Price_Data.ipynb',\n",
    "   parameters=dict(datamart_api_url='http://localhost:12543', \n",
    "                   annotated_path='annotated/wfp_food_prices_ethiopia _updated June 2020_ANNOTATED.xlsx')\n",
    ");"
   ]
  },
  {
   "cell_type": "markdown",
   "metadata": {},
   "source": [
    "#### HIME Dataset"
   ]
  },
  {
   "cell_type": "code",
   "execution_count": 8,
   "metadata": {},
   "outputs": [
    {
     "data": {
      "application/vnd.jupyter.widget-view+json": {
       "model_id": "445b69d6c6cc4158838d33d58db31c6c",
       "version_major": 2,
       "version_minor": 0
      },
      "text/plain": [
       "HBox(children=(HTML(value='Executing'), FloatProgress(value=0.0, max=16.0), HTML(value='')))"
      ]
     },
     "metadata": {},
     "output_type": "display_data"
    },
    {
     "name": "stdout",
     "output_type": "stream",
     "text": [
      "\n"
     ]
    }
   ],
   "source": [
    "pm.execute_notebook(\n",
    "   'DataLoader.ipynb',\n",
    "   'IHME1.ipynb',\n",
    "   parameters=dict(datamart_api_url='http://localhost:12543', \n",
    "                   annotated_path='annotated/IHME_LMIC_CGF_2000_2017_WASTING_PREV_ADMIN_1_Y2020M01D08_ANNOTATED.xlsx')\n",
    ");"
   ]
  },
  {
   "cell_type": "code",
   "execution_count": 9,
   "metadata": {},
   "outputs": [
    {
     "data": {
      "application/vnd.jupyter.widget-view+json": {
       "model_id": "cdafcc4ba5154985a9d96f33c3504208",
       "version_major": 2,
       "version_minor": 0
      },
      "text/plain": [
       "HBox(children=(HTML(value='Executing'), FloatProgress(value=0.0, max=16.0), HTML(value='')))"
      ]
     },
     "metadata": {},
     "output_type": "display_data"
    },
    {
     "name": "stdout",
     "output_type": "stream",
     "text": [
      "\n"
     ]
    }
   ],
   "source": [
    "pm.execute_notebook(\n",
    "   'DataLoader.ipynb',\n",
    "   'IHME2.ipynb',\n",
    "   parameters=dict(datamart_api_url='http://localhost:12543', \n",
    "                   annotated_path='annotated/IHME_LMIC_CGF_2000_2017_WASTING_PREV_ADMIN_2_Y2020M01D08_ANNOTATED.xlsx')\n",
    ");"
   ]
  },
  {
   "cell_type": "markdown",
   "metadata": {},
   "source": [
    "#### DHS Dataset"
   ]
  },
  {
   "cell_type": "code",
   "execution_count": 10,
   "metadata": {},
   "outputs": [
    {
     "data": {
      "application/vnd.jupyter.widget-view+json": {
       "model_id": "7594724c19ba4149b31a38a24ea2ae47",
       "version_major": 2,
       "version_minor": 0
      },
      "text/plain": [
       "HBox(children=(HTML(value='Executing'), FloatProgress(value=0.0, max=16.0), HTML(value='')))"
      ]
     },
     "metadata": {},
     "output_type": "display_data"
    },
    {
     "name": "stdout",
     "output_type": "stream",
     "text": [
      "\n"
     ]
    }
   ],
   "source": [
    "pm.execute_notebook(\n",
    "   'DataLoader.ipynb',\n",
    "   'DHS1.ipynb',\n",
    "   parameters=dict(datamart_api_url='http://localhost:12543', \n",
    "                   annotated_path='annotated/DHS Nutrition STATcompilerExport2020721_161028_ANNOTATED.xlsx')\n",
    ");"
   ]
  },
  {
   "cell_type": "code",
   "execution_count": 12,
   "metadata": {},
   "outputs": [
    {
     "data": {
      "application/vnd.jupyter.widget-view+json": {
       "model_id": "51fec775a4d748fc9d0c3d12a1dee489",
       "version_major": 2,
       "version_minor": 0
      },
      "text/plain": [
       "HBox(children=(HTML(value='Executing'), FloatProgress(value=0.0, max=16.0), HTML(value='')))"
      ]
     },
     "metadata": {},
     "output_type": "display_data"
    },
    {
     "name": "stdout",
     "output_type": "stream",
     "text": [
      "\n"
     ]
    }
   ],
   "source": [
    "pm.execute_notebook(\n",
    "   'DataLoader.ipynb',\n",
    "   'DHS2.ipynb',\n",
    "   parameters=dict(datamart_api_url='http://localhost:12543', \n",
    "                   annotated_path='annotated/DHS Nutrition STATcompilerExport2020721_161028_Totals_ANNOTATED.xlsx')\n",
    ");"
   ]
  },
  {
   "cell_type": "markdown",
   "metadata": {},
   "source": [
    "#### UNHCR"
   ]
  },
  {
   "cell_type": "code",
   "execution_count": 13,
   "metadata": {},
   "outputs": [
    {
     "data": {
      "application/vnd.jupyter.widget-view+json": {
       "model_id": "e53285142a214346ba4bc336133de5b1",
       "version_major": 2,
       "version_minor": 0
      },
      "text/plain": [
       "HBox(children=(HTML(value='Executing'), FloatProgress(value=0.0, max=16.0), HTML(value='')))"
      ]
     },
     "metadata": {},
     "output_type": "display_data"
    },
    {
     "name": "stdout",
     "output_type": "stream",
     "text": [
      "\n"
     ]
    }
   ],
   "source": [
    "pm.execute_notebook(\n",
    "   'DataLoader.ipynb',\n",
    "   'UNHCR.ipynb',\n",
    "   parameters=dict(datamart_api_url='http://localhost:12543', \n",
    "                   annotated_path='annotated/UNHCR_Refugee_Data_ANNOTATED.xlsx')\n",
    ");"
   ]
  },
  {
   "cell_type": "markdown",
   "metadata": {},
   "source": [
    "#### ACLED"
   ]
  },
  {
   "cell_type": "code",
   "execution_count": 14,
   "metadata": {},
   "outputs": [
    {
     "data": {
      "application/vnd.jupyter.widget-view+json": {
       "model_id": "5f15ae1310ba4299a1b47f0b2d049520",
       "version_major": 2,
       "version_minor": 0
      },
      "text/plain": [
       "HBox(children=(HTML(value='Executing'), FloatProgress(value=0.0, max=16.0), HTML(value='')))"
      ]
     },
     "metadata": {},
     "output_type": "display_data"
    },
    {
     "name": "stdout",
     "output_type": "stream",
     "text": [
      "\n"
     ]
    }
   ],
   "source": [
    "pm.execute_notebook(\n",
    "   'DataLoader.ipynb',\n",
    "   'ACLED.ipynb',\n",
    "   parameters=dict(datamart_api_url='http://localhost:12543', \n",
    "                   annotated_path='annotated/ACLED_1997-01-01-2020-11-12-Ethiopia_ANNOTATED.xlsx')\n",
    ");"
   ]
  },
  {
   "cell_type": "markdown",
   "metadata": {},
   "source": [
    "#### ERA5"
   ]
  },
  {
   "cell_type": "code",
   "execution_count": 10,
   "metadata": {
    "scrolled": true
   },
   "outputs": [
    {
     "data": {
      "application/vnd.jupyter.widget-view+json": {
       "model_id": "3b7e01e9bd1b4d9382cee62520af804b",
       "version_major": 2,
       "version_minor": 0
      },
      "text/plain": [
       "HBox(children=(HTML(value='Executing'), FloatProgress(value=0.0, max=16.0), HTML(value='')))"
      ]
     },
     "metadata": {},
     "output_type": "display_data"
    },
    {
     "name": "stdout",
     "output_type": "stream",
     "text": [
      "\n"
     ]
    }
   ],
   "source": [
    "pm.execute_notebook(\n",
    "   'DataLoader.ipynb',\n",
    "   'ERA5.ipynb',\n",
    "   parameters=dict(datamart_api_url='http://localhost:12543', \n",
    "                   annotated_path='annotated/ERA5OromiaDailyMeanTemp_1981-01-01_2020-07-09_ANNOTATED-modified.xlsx',\n",
    "                   DEBUG=True)\n",
    ");"
   ]
  },
  {
   "cell_type": "markdown",
   "metadata": {},
   "source": [
    "#### MARRA2"
   ]
  },
  {
   "cell_type": "code",
   "execution_count": 8,
   "metadata": {},
   "outputs": [
    {
     "data": {
      "application/vnd.jupyter.widget-view+json": {
       "model_id": "5ab02037cbe94e169e5d4938d9c3bb97",
       "version_major": 2,
       "version_minor": 0
      },
      "text/plain": [
       "HBox(children=(HTML(value='Executing'), FloatProgress(value=0.0, max=16.0), HTML(value='')))"
      ]
     },
     "metadata": {},
     "output_type": "display_data"
    },
    {
     "name": "stdout",
     "output_type": "stream",
     "text": [
      "\n"
     ]
    },
    {
     "ename": "PapermillExecutionError",
     "evalue": "\n---------------------------------------------------------------------------\nException encountered at \"In [9]\":\n---------------------------------------------------------------------------\nNameError                                 Traceback (most recent call last)\n<ipython-input-9-4e85f3b2e62b> in <module>\n      5 \n      6     response = get(f'{datamart_api_url}/metadata/datasets')\n----> 7     df_dmeta = pd.DataFrame(response.json())\n      8 \n      9     dataset_id = df_dmeta['dataset_id'][0]\n\nNameError: name 'pd' is not defined\n",
     "output_type": "error",
     "traceback": [
      "\u001b[0;31m---------------------------------------------------------------------------\u001b[0m",
      "\u001b[0;31mPapermillExecutionError\u001b[0m                   Traceback (most recent call last)",
      "\u001b[0;32m<ipython-input-8-cbd51dd260c5>\u001b[0m in \u001b[0;36m<module>\u001b[0;34m\u001b[0m\n\u001b[1;32m      4\u001b[0m    parameters=dict(datamart_api_url='http://localhost:12543', \n\u001b[1;32m      5\u001b[0m                    \u001b[0mannotated_path\u001b[0m\u001b[0;34m=\u001b[0m\u001b[0;34m'annotated/MERRA2OromiaDailyPrecip_1981-01-01_2020-09-30_ANNOTATED-modified.xlsx'\u001b[0m\u001b[0;34m,\u001b[0m\u001b[0;34m\u001b[0m\u001b[0;34m\u001b[0m\u001b[0m\n\u001b[0;32m----> 6\u001b[0;31m                    DEBUG=True)\n\u001b[0m\u001b[1;32m      7\u001b[0m );\n",
      "\u001b[0;32m~/miniconda3/envs/t2wml-project/lib/python3.7/site-packages/papermill/execute.py\u001b[0m in \u001b[0;36mexecute_notebook\u001b[0;34m(input_path, output_path, parameters, engine_name, request_save_on_cell_execute, prepare_only, kernel_name, progress_bar, log_output, stdout_file, stderr_file, start_timeout, report_mode, cwd, **engine_kwargs)\u001b[0m\n\u001b[1;32m    116\u001b[0m \u001b[0;34m\u001b[0m\u001b[0m\n\u001b[1;32m    117\u001b[0m             \u001b[0;31m# Check for errors first (it saves on error before raising)\u001b[0m\u001b[0;34m\u001b[0m\u001b[0;34m\u001b[0m\u001b[0;34m\u001b[0m\u001b[0m\n\u001b[0;32m--> 118\u001b[0;31m             \u001b[0mraise_for_execution_errors\u001b[0m\u001b[0;34m(\u001b[0m\u001b[0mnb\u001b[0m\u001b[0;34m,\u001b[0m \u001b[0moutput_path\u001b[0m\u001b[0;34m)\u001b[0m\u001b[0;34m\u001b[0m\u001b[0;34m\u001b[0m\u001b[0m\n\u001b[0m\u001b[1;32m    119\u001b[0m \u001b[0;34m\u001b[0m\u001b[0m\n\u001b[1;32m    120\u001b[0m         \u001b[0;31m# Write final output in case the engine didn't write it on cell completion.\u001b[0m\u001b[0;34m\u001b[0m\u001b[0;34m\u001b[0m\u001b[0;34m\u001b[0m\u001b[0m\n",
      "\u001b[0;32m~/miniconda3/envs/t2wml-project/lib/python3.7/site-packages/papermill/execute.py\u001b[0m in \u001b[0;36mraise_for_execution_errors\u001b[0;34m(nb, output_path)\u001b[0m\n\u001b[1;32m    228\u001b[0m \u001b[0;34m\u001b[0m\u001b[0m\n\u001b[1;32m    229\u001b[0m         \u001b[0mwrite_ipynb\u001b[0m\u001b[0;34m(\u001b[0m\u001b[0mnb\u001b[0m\u001b[0;34m,\u001b[0m \u001b[0moutput_path\u001b[0m\u001b[0;34m)\u001b[0m\u001b[0;34m\u001b[0m\u001b[0;34m\u001b[0m\u001b[0m\n\u001b[0;32m--> 230\u001b[0;31m         \u001b[0;32mraise\u001b[0m \u001b[0merror\u001b[0m\u001b[0;34m\u001b[0m\u001b[0;34m\u001b[0m\u001b[0m\n\u001b[0m",
      "\u001b[0;31mPapermillExecutionError\u001b[0m: \n---------------------------------------------------------------------------\nException encountered at \"In [9]\":\n---------------------------------------------------------------------------\nNameError                                 Traceback (most recent call last)\n<ipython-input-9-4e85f3b2e62b> in <module>\n      5 \n      6     response = get(f'{datamart_api_url}/metadata/datasets')\n----> 7     df_dmeta = pd.DataFrame(response.json())\n      8 \n      9     dataset_id = df_dmeta['dataset_id'][0]\n\nNameError: name 'pd' is not defined\n"
     ]
    }
   ],
   "source": [
    "pm.execute_notebook(\n",
    "   'DataLoader.ipynb',\n",
    "   'MERRA2.ipynb',\n",
    "   parameters=dict(datamart_api_url='http://localhost:12543', \n",
    "                   annotated_path='annotated/MERRA2OromiaDailyPrecip_1981-01-01_2020-09-30_ANNOTATED-modified.xlsx',\n",
    "                   DEBUG=True)\n",
    ");"
   ]
  },
  {
   "cell_type": "markdown",
   "metadata": {},
   "source": [
    "## Erase a dataset"
   ]
  },
  {
   "cell_type": "code",
   "execution_count": null,
   "metadata": {},
   "outputs": [],
   "source": [
    "pm.execute_notebook(\n",
    "   'DataLoader.ipynb',\n",
    "   'erase_FSI.ipynb',\n",
    "   parameters=dict(datamart_api_url='http://localhost:12543', \n",
    "                   dataset_id_to_erase='FSI')\n",
    ");"
   ]
  },
  {
   "cell_type": "markdown",
   "metadata": {},
   "source": [
    "## Upload datasets"
   ]
  },
  {
   "cell_type": "markdown",
   "metadata": {},
   "source": [
    "### FSI dataset"
   ]
  },
  {
   "cell_type": "code",
   "execution_count": null,
   "metadata": {},
   "outputs": [],
   "source": [
    "pm.execute_notebook(\n",
    "   'DataLoader.ipynb',\n",
    "   'FSI_comb.ipynb',\n",
    "   parameters=dict(datamart_api_url='http://localhost:12543', \n",
    "                   template_path='templates/FSI.tsv',\n",
    "                   dataset_path='FSI/',\n",
    "                   flag_combine_files=True, DEBUG=True)\n",
    ");"
   ]
  },
  {
   "cell_type": "code",
   "execution_count": null,
   "metadata": {},
   "outputs": [],
   "source": [
    "pm.execute_notebook(\n",
    "   'DataLoader.ipynb',\n",
    "   'FSI_seq.ipynb',\n",
    "   parameters=dict(datamart_api_url='http://localhost:12543', \n",
    "                   template_path='templates/FSI.tsv',\n",
    "                   dataset_path='FSI/', dataset_id_to_erase='FSI',\n",
    "                   flag_combine_files=False, DEBUG=True)\n",
    ");"
   ]
  },
  {
   "cell_type": "markdown",
   "metadata": {},
   "source": [
    "### WFD dataset"
   ]
  },
  {
   "cell_type": "code",
   "execution_count": null,
   "metadata": {},
   "outputs": [],
   "source": [
    "pm.execute_notebook(\n",
    "   'DataLoader.ipynb',\n",
    "   'WFP.ipynb',\n",
    "   parameters=dict(datamart_api_url='http://localhost:12543',\n",
    "                   template_path='templates/WFP.tsv',\n",
    "                   dataset_path='WFP/', \n",
    "                   flag_combine_files=False, DEBUG=True)\n",
    ");"
   ]
  },
  {
   "cell_type": "markdown",
   "metadata": {},
   "source": [
    "### FAOSTAT dataset"
   ]
  },
  {
   "cell_type": "code",
   "execution_count": null,
   "metadata": {},
   "outputs": [],
   "source": [
    "pm.execute_notebook(\n",
    "   'DataLoader.ipynb',\n",
    "   'FAOSTAT.ipynb',\n",
    "   parameters=dict(datamart_api_url='http://localhost:12543',\n",
    "                   template_path='templates/FAOSTAT.tsv',\n",
    "                   dataset_path='FAOSTAT/', \n",
    "                   flag_combine_files=False, DEBUG=True)\n",
    ");"
   ]
  },
  {
   "cell_type": "markdown",
   "metadata": {},
   "source": [
    "### Save Templates"
   ]
  },
  {
   "cell_type": "code",
   "execution_count": null,
   "metadata": {},
   "outputs": [],
   "source": [
    "pm.execute_notebook(\n",
    "    'DataLoader.ipynb',\n",
    "    'WFP_template.ipynb',\n",
    "    parameters=dict(datamart_api_url='http://localhost:12543',\n",
    "                    template_path='templates/WFP.tsv',\n",
    "                    save_template_path='templates/WFP_saved.tsv')\n",
    ");"
   ]
  },
  {
   "cell_type": "code",
   "execution_count": null,
   "metadata": {},
   "outputs": [],
   "source": []
  }
 ],
 "metadata": {
  "kernelspec": {
   "display_name": "Python 3",
   "language": "python",
   "name": "python3"
  },
  "language_info": {
   "codemirror_mode": {
    "name": "ipython",
    "version": 3
   },
   "file_extension": ".py",
   "mimetype": "text/x-python",
   "name": "python",
   "nbconvert_exporter": "python",
   "pygments_lexer": "ipython3",
   "version": "3.7.9"
  }
 },
 "nbformat": 4,
 "nbformat_minor": 4
}
