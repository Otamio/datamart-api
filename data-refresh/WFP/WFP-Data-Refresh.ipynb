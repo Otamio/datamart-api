{
 "cells": [
  {
   "cell_type": "markdown",
   "metadata": {},
   "source": [
    "# Refresh WFP data in Datamart"
   ]
  },
  {
   "cell_type": "code",
   "execution_count": 1,
   "metadata": {},
   "outputs": [],
   "source": [
    "import sys\n",
    "sys.path.append(\"../\")\n",
    "\n",
    "import io, glob\n",
    "import pandas as pd\n",
    "from utils import frame, ops\n",
    "from requests import get,post,put,delete\n",
    "from IPython.display import display, HTML"
   ]
  },
  {
   "cell_type": "markdown",
   "metadata": {},
   "source": [
    "## All parameters are passed from commandline"
   ]
  },
  {
   "cell_type": "code",
   "execution_count": 2,
   "metadata": {
    "tags": [
     "parameters"
    ]
   },
   "outputs": [],
   "source": [
    "# Parameters to be injected\n",
    "template_path = 'WFP_template.tsv'\n",
    "datasets_path = './datasets'\n",
    "datamart_api_url = 'http://localhost:12543'\n",
    "dataset_to_erase = None"
   ]
  },
  {
   "cell_type": "markdown",
   "metadata": {},
   "source": [
    "### Remove datasets when needed"
   ]
  },
  {
   "cell_type": "code",
   "execution_count": 5,
   "metadata": {},
   "outputs": [],
   "source": [
    "if not dataset_to_erase is None:\n",
    "    ops.erase_dataset(datamart_api_url, dataset_to_erase)"
   ]
  },
  {
   "cell_type": "markdown",
   "metadata": {},
   "source": [
    "### Load template into memory"
   ]
  },
  {
   "cell_type": "code",
   "execution_count": 6,
   "metadata": {},
   "outputs": [
    {
     "data": {
      "text/html": [
       "<div>\n",
       "<style scoped>\n",
       "    .dataframe tbody tr th:only-of-type {\n",
       "        vertical-align: middle;\n",
       "    }\n",
       "\n",
       "    .dataframe tbody tr th {\n",
       "        vertical-align: top;\n",
       "    }\n",
       "\n",
       "    .dataframe thead th {\n",
       "        text-align: right;\n",
       "    }\n",
       "</style>\n",
       "<table border=\"1\" class=\"dataframe\">\n",
       "  <thead>\n",
       "    <tr style=\"text-align: right;\">\n",
       "      <th></th>\n",
       "      <th>0</th>\n",
       "      <th>1</th>\n",
       "      <th>2</th>\n",
       "      <th>3</th>\n",
       "      <th>4</th>\n",
       "      <th>5</th>\n",
       "      <th>6</th>\n",
       "      <th>7</th>\n",
       "      <th>8</th>\n",
       "      <th>9</th>\n",
       "      <th>10</th>\n",
       "      <th>11</th>\n",
       "      <th>12</th>\n",
       "      <th>13</th>\n",
       "      <th>14</th>\n",
       "      <th>15</th>\n",
       "      <th>16</th>\n",
       "      <th>17</th>\n",
       "    </tr>\n",
       "  </thead>\n",
       "  <tbody>\n",
       "    <tr>\n",
       "      <th>0</th>\n",
       "      <td>dataset</td>\n",
       "      <td>WFP</td>\n",
       "      <td>WFP dataset</td>\n",
       "      <td>World food prices data compiled by the World F...</td>\n",
       "      <td>https://data.humdata.org/dataset/wfp-food-prices</td>\n",
       "      <td></td>\n",
       "      <td></td>\n",
       "      <td></td>\n",
       "      <td></td>\n",
       "      <td></td>\n",
       "      <td></td>\n",
       "      <td></td>\n",
       "      <td></td>\n",
       "      <td></td>\n",
       "      <td></td>\n",
       "      <td></td>\n",
       "      <td></td>\n",
       "      <td></td>\n",
       "    </tr>\n",
       "    <tr>\n",
       "      <th>1</th>\n",
       "      <td>role</td>\n",
       "      <td>time</td>\n",
       "      <td>main subject</td>\n",
       "      <td>unit</td>\n",
       "      <td>qualifier</td>\n",
       "      <td>variable</td>\n",
       "      <td>unit</td>\n",
       "      <td>location</td>\n",
       "      <td>location</td>\n",
       "      <td></td>\n",
       "      <td>qualifier</td>\n",
       "      <td>qualifier</td>\n",
       "      <td>qualifier</td>\n",
       "      <td>qualifier</td>\n",
       "      <td>qualifier</td>\n",
       "      <td>qualifier</td>\n",
       "      <td>qualifier</td>\n",
       "      <td></td>\n",
       "    </tr>\n",
       "    <tr>\n",
       "      <th>2</th>\n",
       "      <td>type</td>\n",
       "      <td>%m/%d/%Y</td>\n",
       "      <td>string</td>\n",
       "      <td>string</td>\n",
       "      <td>string</td>\n",
       "      <td>number</td>\n",
       "      <td>string</td>\n",
       "      <td>country</td>\n",
       "      <td>admin1</td>\n",
       "      <td></td>\n",
       "      <td>string</td>\n",
       "      <td>string</td>\n",
       "      <td>string</td>\n",
       "      <td>string</td>\n",
       "      <td>string</td>\n",
       "      <td>string</td>\n",
       "      <td>string</td>\n",
       "      <td></td>\n",
       "    </tr>\n",
       "    <tr>\n",
       "      <th>3</th>\n",
       "      <td>description</td>\n",
       "      <td></td>\n",
       "      <td></td>\n",
       "      <td></td>\n",
       "      <td></td>\n",
       "      <td></td>\n",
       "      <td></td>\n",
       "      <td></td>\n",
       "      <td></td>\n",
       "      <td></td>\n",
       "      <td></td>\n",
       "      <td></td>\n",
       "      <td></td>\n",
       "      <td></td>\n",
       "      <td></td>\n",
       "      <td></td>\n",
       "      <td></td>\n",
       "      <td></td>\n",
       "    </tr>\n",
       "    <tr>\n",
       "      <th>4</th>\n",
       "      <td>name</td>\n",
       "      <td></td>\n",
       "      <td></td>\n",
       "      <td></td>\n",
       "      <td></td>\n",
       "      <td></td>\n",
       "      <td></td>\n",
       "      <td></td>\n",
       "      <td></td>\n",
       "      <td></td>\n",
       "      <td></td>\n",
       "      <td></td>\n",
       "      <td></td>\n",
       "      <td></td>\n",
       "      <td></td>\n",
       "      <td></td>\n",
       "      <td></td>\n",
       "      <td></td>\n",
       "    </tr>\n",
       "    <tr>\n",
       "      <th>5</th>\n",
       "      <td>unit</td>\n",
       "      <td></td>\n",
       "      <td></td>\n",
       "      <td></td>\n",
       "      <td></td>\n",
       "      <td></td>\n",
       "      <td></td>\n",
       "      <td></td>\n",
       "      <td></td>\n",
       "      <td></td>\n",
       "      <td></td>\n",
       "      <td></td>\n",
       "      <td></td>\n",
       "      <td></td>\n",
       "      <td></td>\n",
       "      <td></td>\n",
       "      <td></td>\n",
       "      <td></td>\n",
       "    </tr>\n",
       "    <tr>\n",
       "      <th>6</th>\n",
       "      <td>header</td>\n",
       "      <td>date</td>\n",
       "      <td>cmname</td>\n",
       "      <td>unit</td>\n",
       "      <td>category</td>\n",
       "      <td>price</td>\n",
       "      <td>currency</td>\n",
       "      <td>country</td>\n",
       "      <td>admname</td>\n",
       "      <td>adm1id</td>\n",
       "      <td>mktname</td>\n",
       "      <td>mktid</td>\n",
       "      <td>cmid</td>\n",
       "      <td>ptid</td>\n",
       "      <td>umid</td>\n",
       "      <td>catid</td>\n",
       "      <td>sn</td>\n",
       "      <td>default</td>\n",
       "    </tr>\n",
       "    <tr>\n",
       "      <th>7</th>\n",
       "      <td></td>\n",
       "      <td></td>\n",
       "      <td></td>\n",
       "      <td></td>\n",
       "      <td></td>\n",
       "      <td></td>\n",
       "      <td></td>\n",
       "      <td></td>\n",
       "      <td></td>\n",
       "      <td></td>\n",
       "      <td></td>\n",
       "      <td></td>\n",
       "      <td></td>\n",
       "      <td></td>\n",
       "      <td></td>\n",
       "      <td></td>\n",
       "      <td></td>\n",
       "      <td></td>\n",
       "    </tr>\n",
       "    <tr>\n",
       "      <th>8</th>\n",
       "      <td>data</td>\n",
       "      <td></td>\n",
       "      <td></td>\n",
       "      <td></td>\n",
       "      <td></td>\n",
       "      <td></td>\n",
       "      <td></td>\n",
       "      <td></td>\n",
       "      <td></td>\n",
       "      <td></td>\n",
       "      <td></td>\n",
       "      <td></td>\n",
       "      <td></td>\n",
       "      <td></td>\n",
       "      <td></td>\n",
       "      <td></td>\n",
       "      <td></td>\n",
       "      <td></td>\n",
       "    </tr>\n",
       "  </tbody>\n",
       "</table>\n",
       "</div>"
      ],
      "text/plain": [
       "            0         1             2   \\\n",
       "0      dataset       WFP   WFP dataset   \n",
       "1         role      time  main subject   \n",
       "2         type  %m/%d/%Y        string   \n",
       "3  description                           \n",
       "4         name                           \n",
       "5         unit                           \n",
       "6       header      date        cmname   \n",
       "7                                        \n",
       "8         data                           \n",
       "\n",
       "                                                  3   \\\n",
       "0  World food prices data compiled by the World F...   \n",
       "1                                               unit   \n",
       "2                                             string   \n",
       "3                                                      \n",
       "4                                                      \n",
       "5                                                      \n",
       "6                                               unit   \n",
       "7                                                      \n",
       "8                                                      \n",
       "\n",
       "                                                 4         5         6   \\\n",
       "0  https://data.humdata.org/dataset/wfp-food-prices                       \n",
       "1                                         qualifier  variable      unit   \n",
       "2                                            string    number    string   \n",
       "3                                                                         \n",
       "4                                                                         \n",
       "5                                                                         \n",
       "6                                          category     price  currency   \n",
       "7                                                                         \n",
       "8                                                                         \n",
       "\n",
       "         7         8       9          10         11         12         13  \\\n",
       "0                                                                           \n",
       "1  location  location          qualifier  qualifier  qualifier  qualifier   \n",
       "2   country    admin1             string     string     string     string   \n",
       "3                                                                           \n",
       "4                                                                           \n",
       "5                                                                           \n",
       "6   country   admname  adm1id    mktname      mktid       cmid       ptid   \n",
       "7                                                                           \n",
       "8                                                                           \n",
       "\n",
       "          14         15         16       17  \n",
       "0                                            \n",
       "1  qualifier  qualifier  qualifier           \n",
       "2     string     string     string           \n",
       "3                                            \n",
       "4                                            \n",
       "5                                            \n",
       "6       umid      catid         sn  default  \n",
       "7                                            \n",
       "8                                            "
      ]
     },
     "execution_count": 6,
     "metadata": {},
     "output_type": "execute_result"
    }
   ],
   "source": [
    "df_template = frame.get_template(template_path)\n",
    "df_template"
   ]
  },
  {
   "cell_type": "markdown",
   "metadata": {},
   "source": [
    "### Build the pattern of files to be uploaded"
   ]
  },
  {
   "cell_type": "code",
   "execution_count": 7,
   "metadata": {},
   "outputs": [],
   "source": [
    "patterns = ops.generate_targets(datasets_path)"
   ]
  },
  {
   "cell_type": "markdown",
   "metadata": {},
   "source": [
    "### Build the sheet to be uploaded"
   ]
  },
  {
   "cell_type": "code",
   "execution_count": 9,
   "metadata": {},
   "outputs": [],
   "source": [
    "dataset_id = df_template.iloc[0,1]\n",
    "\n",
    "# This sheet holds all the datapoints to be uploaded\n",
    "annotated_sheet = frame.get_template(template_path)\n",
    "add_datatag = True\n",
    "\n",
    "for p in patterns:\n",
    "    for filename in glob.iglob(p):        \n",
    "        annotated_sheet, add_datatag = frame.append_sheet(annotated_sheet, filename, add_datatag)"
   ]
  },
  {
   "cell_type": "markdown",
   "metadata": {},
   "source": [
    "### Post the annotated sheet to datamart"
   ]
  },
  {
   "cell_type": "code",
   "execution_count": 11,
   "metadata": {},
   "outputs": [],
   "source": [
    "frame.upload_annotated_sheet(annotated_sheet, dataset_id, datamart_api_url)"
   ]
  },
  {
   "cell_type": "markdown",
   "metadata": {},
   "source": [
    "### Check the data has been uploaded"
   ]
  },
  {
   "cell_type": "code",
   "execution_count": 12,
   "metadata": {},
   "outputs": [],
   "source": [
    "from datetime import datetime\n",
    "import matplotlib.pyplot as plt\n",
    "%matplotlib inline"
   ]
  },
  {
   "cell_type": "code",
   "execution_count": 13,
   "metadata": {},
   "outputs": [],
   "source": [
    "q_variable = 'price'\n",
    "response = get(f\"{datamart_api_url}/datasets/{dataset_id}/variables/{q_variable}\")\n",
    "df = pd.read_csv(io.StringIO(response.text))"
   ]
  },
  {
   "cell_type": "code",
   "execution_count": 14,
   "metadata": {},
   "outputs": [],
   "source": [
    "# Try to catch the trends of price of Sorghum (Retail)\n",
    "z = df[df['cmid']==65]\n",
    "z.reset_index(drop=True, inplace=True)\n",
    "# Generate y and x values\n",
    "z = pd.concat([z['value'], z['time'].apply(lambda t: datetime.strptime(t,'%Y-%m-%dT%H:%M:%SZ').year)], axis=1)\n",
    "z.columns = ['value', 'year']\n",
    "z = z[['value','year']].groupby(['year']).mean()"
   ]
  },
  {
   "cell_type": "code",
   "execution_count": 15,
   "metadata": {},
   "outputs": [
    {
     "data": {
      "image/png": "[encoded data removed]",
      "text/plain": [
       "<Figure size 432x288 with 1 Axes>"
      ]
     },
     "metadata": {
      "needs_background": "light"
     },
     "output_type": "display_data"
    }
   ],
   "source": [
    "fig, ax = plt.subplots()\n",
    "ax.plot(z.index,z['value'])\n",
    "\n",
    "ax.set(xlabel='year', ylabel='price (KG/ETB)', title=f'Trend of average price of Sorghum (Retail) in Ethiopia')\n",
    "plt.show()"
   ]
  }
 ],
 "metadata": {
  "celltoolbar": "Tags",
  "kernelspec": {
   "display_name": "Python 3",
   "language": "python",
   "name": "python3"
  },
  "language_info": {
   "codemirror_mode": {
    "name": "ipython",
    "version": 3
   },
   "file_extension": ".py",
   "mimetype": "text/x-python",
   "name": "python",
   "nbconvert_exporter": "python",
   "pygments_lexer": "ipython3",
   "version": "3.6.11"
  }
 },
 "nbformat": 4,
 "nbformat_minor": 4
}
