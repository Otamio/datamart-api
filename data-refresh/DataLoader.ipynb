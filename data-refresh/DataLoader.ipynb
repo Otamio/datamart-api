{
 "cells": [
  {
   "cell_type": "markdown",
   "metadata": {},
   "source": [
    "# This is a demo on how to use the DataLoader to upload kgtk(\\*.tsv) and annotated spreadsheets (\\*.csv or \\*.xlsx) to Datamart"
   ]
  },
  {
   "cell_type": "markdown",
   "metadata": {},
   "source": [
    "## Current Support\n",
    "---\n",
    "`DataLoader` currently supports the following functionalities:\n",
    "1. `template` ++ `[spreadsheet]+` => `annotated_spreadsheet` => `Datamart` => `None`\n",
    "2. `annotated_spreadsheet` ++ `[yaml_file]?` => `Datamart` => **UNION**[`t2wml_output`, `exploded_kgtk`, `None`]\n",
    "3. `exploded_kgtk` => `Datamart` => `None`"
   ]
  },
  {
   "cell_type": "markdown",
   "metadata": {},
   "source": [
    "## Parameters\n",
    "\n",
    "Users will be able to inject their parameters through commandline. Currently the following parameters are supported:"
   ]
  },
  {
   "cell_type": "code",
   "execution_count": null,
   "metadata": {
    "tags": [
     "parameters"
    ]
   },
   "outputs": [],
   "source": [
    "# Parameters to be injected\n",
    "\n",
    "datamart_api_url = 'http://localhost:12543'\n",
    "# [optional]\n",
    "dataset_id = None\n",
    "put_data = False\n",
    "DEBUG = False\n",
    "\n",
    "\n",
    "# [params] combining template and data\n",
    "template_path = None\n",
    "dataset_path = None\n",
    "# [optional params]\n",
    "flag_combine_files = False\n",
    "save_template_path = None\n",
    "save_tsv_path = None\n",
    "save_t2wml_path = None\n",
    "Verbose = False\n",
    "\n",
    "\n",
    "# [params] submitting one annotated spreadsheet\n",
    "annotated_path = None\n",
    "# [optional params]\n",
    "yamlfile_path = None    \n",
    "\n",
    "# [params] submitting kgtk file\n",
    "tsv_path = None\n",
    "\n",
    "\n",
    "# [params] erase one dataset\n",
    "dataset_id_to_erase = None"
   ]
  },
  {
   "cell_type": "markdown",
   "metadata": {},
   "source": [
    "### Import python modules and utilities"
   ]
  },
  {
   "cell_type": "code",
   "execution_count": null,
   "metadata": {},
   "outputs": [],
   "source": [
    "from utils import spreadsheet, utility, upload, erase, template, test\n",
    "%matplotlib inline"
   ]
  },
  {
   "cell_type": "markdown",
   "metadata": {},
   "source": [
    "### Delete a dataset if needed"
   ]
  },
  {
   "cell_type": "code",
   "execution_count": null,
   "metadata": {},
   "outputs": [],
   "source": [
    "if dataset_id_to_erase:\n",
    "    erase.erase_dataset(datamart_api_url, dataset_id_to_erase)"
   ]
  },
  {
   "cell_type": "markdown",
   "metadata": {},
   "source": [
    "### Build the annotated sheet, and add it to Datamart"
   ]
  },
  {
   "cell_type": "code",
   "execution_count": null,
   "metadata": {},
   "outputs": [],
   "source": [
    "nfiles, nsheets = 0, 0\n",
    "if template_path and dataset_path:\n",
    "    if dataset_id is None:\n",
    "        dataset_id = utility.read_tsv(template_path).iat[0,1]\n",
    "\n",
    "    nfiles, nsheets = upload.submit_sheet_bulk(datamart_api_url, template_path, \n",
    "                                               dataset_path, flag_combine_files, put_data)"
   ]
  },
  {
   "cell_type": "markdown",
   "metadata": {},
   "source": [
    "### If needed, save the template"
   ]
  },
  {
   "cell_type": "code",
   "execution_count": null,
   "metadata": {},
   "outputs": [],
   "source": [
    "if not save_template_path is None:\n",
    "    template.save_annotation_template(utility.read_tsv(template_path), save_template_path)"
   ]
  },
  {
   "cell_type": "markdown",
   "metadata": {},
   "source": [
    "### Get the annotated sheet, and add it to Datamart\n",
    "\n",
    "Returned files will be saved at save_tsv or save_files"
   ]
  },
  {
   "cell_type": "code",
   "execution_count": null,
   "metadata": {},
   "outputs": [],
   "source": [
    "if annotated_path:\n",
    "    if upload.submit_annotated_sheet(datamart_api_url, annotated_path, yamlfile_path, put_data=put_data,\n",
    "                                        verbose=Verbose, save_tsv=save_tsv_path, save_files=save_t2wml_path):\n",
    "        nsheets += 1\n",
    "        nfiles += 1"
   ]
  },
  {
   "cell_type": "markdown",
   "metadata": {},
   "source": [
    "### Get tsv file, and add it to Datamart"
   ]
  },
  {
   "cell_type": "code",
   "execution_count": null,
   "metadata": {},
   "outputs": [],
   "source": [
    "if tsv_path:\n",
    "    if upload.submit_tsv(datamart_api_url, tsv_path, put_data=put_data):\n",
    "        nfiles += 1"
   ]
  },
  {
   "cell_type": "markdown",
   "metadata": {},
   "source": [
    "### Generate statistics for bug checking"
   ]
  },
  {
   "cell_type": "code",
   "execution_count": null,
   "metadata": {},
   "outputs": [],
   "source": [
    "print(f'{nfiles} files processed.')\n",
    "print(f'{nsheets} sheets uploaded.')"
   ]
  },
  {
   "cell_type": "markdown",
   "metadata": {},
   "source": [
    "### Visualization to check errors"
   ]
  },
  {
   "cell_type": "code",
   "execution_count": null,
   "metadata": {},
   "outputs": [],
   "source": [
    "if nsheets > 0 and DEBUG:\n",
    "    test.visualize(datamart_api_url, dataset_id)"
   ]
  }
 ],
 "metadata": {
  "celltoolbar": "Tags",
  "kernelspec": {
   "display_name": "Python 3",
   "language": "python",
   "name": "python3"
  },
  "language_info": {
   "codemirror_mode": {
    "name": "ipython",
    "version": 3
   },
   "file_extension": ".py",
   "mimetype": "text/x-python",
   "name": "python",
   "nbconvert_exporter": "python",
   "pygments_lexer": "ipython3",
   "version": "3.7.9"
  }
 },
 "nbformat": 4,
 "nbformat_minor": 4
}
