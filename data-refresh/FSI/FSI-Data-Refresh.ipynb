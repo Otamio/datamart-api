{
 "cells": [
  {
   "cell_type": "markdown",
   "metadata": {},
   "source": [
    "# Refresh FSI data in Datamart"
   ]
  },
  {
   "cell_type": "code",
   "execution_count": 1,
   "metadata": {},
   "outputs": [],
   "source": [
    "import io\n",
    "import os, glob\n",
    "import pandas as pd\n",
    "import json\n",
    "from requests import get,post,put,delete\n",
    "from IPython.display import display, HTML"
   ]
  },
  {
   "cell_type": "markdown",
   "metadata": {},
   "source": [
    "## All parameters are passed from commandline"
   ]
  },
  {
   "cell_type": "code",
   "execution_count": 2,
   "metadata": {
    "tags": [
     "parameters"
    ]
   },
   "outputs": [],
   "source": [
    "# Parameters to be injected\n",
    "template_path = 'FSI_template.tsv'\n",
    "datasets_path = './datasets'\n",
    "datamart_api_url = 'http://localhost:12543'\n",
    "dataset_to_erase = None"
   ]
  },
  {
   "cell_type": "markdown",
   "metadata": {},
   "source": [
    "### Utilities"
   ]
  },
  {
   "cell_type": "code",
   "execution_count": 3,
   "metadata": {},
   "outputs": [],
   "source": [
    "def erase_dataset(datamart_api_url: str, dataset_id: str):\n",
    "    response = delete(f'{datamart_api_url}/metadata/datasets/{dataset_id}?force=true')\n",
    "    if response.status_code == 400:\n",
    "        print(json.dumps(response.json(), indent=2))"
   ]
  },
  {
   "cell_type": "code",
   "execution_count": 4,
   "metadata": {},
   "outputs": [],
   "source": [
    "def upload_data_annotated(file_path, url, put_data=True):\n",
    "    file_name = os.path.basename(file_path)\n",
    "    files = {\n",
    "        'file': (file_name, open(file_path, mode='rb'), 'application/octet-stream')\n",
    "    }\n",
    "    if put_data:\n",
    "        response = put(url, files=files)\n",
    "    else:\n",
    "        response = post(url, files=files)\n",
    "    if response.status_code == 400:\n",
    "        print(json.dumps(response.json(), indent=2))\n",
    "    else:\n",
    "        print(json.dumps(response.json(), indent=2))"
   ]
  },
  {
   "cell_type": "code",
   "execution_count": 5,
   "metadata": {},
   "outputs": [],
   "source": [
    "def upload_frame_annotated(buffer, url, put_data=True):\n",
    "    \n",
    "    buffer.seek(0)\n",
    "    \n",
    "    files = {\n",
    "        'file': ('buffer.csv', buffer, 'application/octet-stream')\n",
    "    }\n",
    "    \n",
    "    if put_data:\n",
    "        response = put(url, files=files)\n",
    "    else:\n",
    "        response = post(url, files=files)\n",
    "    if response.status_code == 400:\n",
    "        print(json.dumps(response.json(), indent=2))"
   ]
  },
  {
   "cell_type": "markdown",
   "metadata": {},
   "source": [
    "### Remove datasets when needed"
   ]
  },
  {
   "cell_type": "code",
   "execution_count": 6,
   "metadata": {},
   "outputs": [],
   "source": [
    "if not dataset_to_erase is None:\n",
    "    erase_dataset(datamart_api_url, dataset_to_erase)"
   ]
  },
  {
   "cell_type": "markdown",
   "metadata": {},
   "source": [
    "### Load template into memory"
   ]
  },
  {
   "cell_type": "code",
   "execution_count": 7,
   "metadata": {},
   "outputs": [],
   "source": [
    "def get_template(template_path: str):\n",
    "    if not os.path.isfile(template_path):\n",
    "        raise FileNotFoundError(\"Template file does not exist!\")\n",
    "    return pd.read_csv(template_path, sep='\\t', dtype=object, header=None).fillna('')"
   ]
  },
  {
   "cell_type": "code",
   "execution_count": 8,
   "metadata": {},
   "outputs": [
    {
     "data": {
      "text/html": [
       "<div>\n",
       "<style scoped>\n",
       "    .dataframe tbody tr th:only-of-type {\n",
       "        vertical-align: middle;\n",
       "    }\n",
       "\n",
       "    .dataframe tbody tr th {\n",
       "        vertical-align: top;\n",
       "    }\n",
       "\n",
       "    .dataframe thead th {\n",
       "        text-align: right;\n",
       "    }\n",
       "</style>\n",
       "<table border=\"1\" class=\"dataframe\">\n",
       "  <thead>\n",
       "    <tr style=\"text-align: right;\">\n",
       "      <th></th>\n",
       "      <th>0</th>\n",
       "      <th>1</th>\n",
       "      <th>2</th>\n",
       "      <th>3</th>\n",
       "      <th>4</th>\n",
       "      <th>5</th>\n",
       "      <th>6</th>\n",
       "      <th>7</th>\n",
       "      <th>8</th>\n",
       "      <th>9</th>\n",
       "      <th>10</th>\n",
       "      <th>11</th>\n",
       "      <th>12</th>\n",
       "      <th>13</th>\n",
       "      <th>14</th>\n",
       "      <th>15</th>\n",
       "      <th>16</th>\n",
       "    </tr>\n",
       "  </thead>\n",
       "  <tbody>\n",
       "    <tr>\n",
       "      <th>0</th>\n",
       "      <td>dataset</td>\n",
       "      <td>FSI</td>\n",
       "      <td>FSI dataset</td>\n",
       "      <td>data downloaded from FSI</td>\n",
       "      <td>https://fragilestatesindex.org</td>\n",
       "      <td></td>\n",
       "      <td></td>\n",
       "      <td></td>\n",
       "      <td></td>\n",
       "      <td></td>\n",
       "      <td></td>\n",
       "      <td></td>\n",
       "      <td></td>\n",
       "      <td></td>\n",
       "      <td></td>\n",
       "      <td></td>\n",
       "      <td></td>\n",
       "    </tr>\n",
       "    <tr>\n",
       "      <th>1</th>\n",
       "      <td>role</td>\n",
       "      <td>main subject</td>\n",
       "      <td>time</td>\n",
       "      <td></td>\n",
       "      <td></td>\n",
       "      <td>variable</td>\n",
       "      <td>variable</td>\n",
       "      <td>variable</td>\n",
       "      <td>variable</td>\n",
       "      <td>variable</td>\n",
       "      <td>variable</td>\n",
       "      <td>variable</td>\n",
       "      <td>variable</td>\n",
       "      <td>variable</td>\n",
       "      <td>variable</td>\n",
       "      <td>variable</td>\n",
       "      <td>variable</td>\n",
       "    </tr>\n",
       "    <tr>\n",
       "      <th>2</th>\n",
       "      <td>type</td>\n",
       "      <td>country</td>\n",
       "      <td>%Y-%m-%d %H:%M:%S</td>\n",
       "      <td></td>\n",
       "      <td></td>\n",
       "      <td>number</td>\n",
       "      <td>number</td>\n",
       "      <td>number</td>\n",
       "      <td>number</td>\n",
       "      <td>number</td>\n",
       "      <td>number</td>\n",
       "      <td>number</td>\n",
       "      <td>number</td>\n",
       "      <td>number</td>\n",
       "      <td>number</td>\n",
       "      <td>number</td>\n",
       "      <td>number</td>\n",
       "    </tr>\n",
       "    <tr>\n",
       "      <th>3</th>\n",
       "      <td>description</td>\n",
       "      <td></td>\n",
       "      <td></td>\n",
       "      <td></td>\n",
       "      <td></td>\n",
       "      <td></td>\n",
       "      <td></td>\n",
       "      <td></td>\n",
       "      <td></td>\n",
       "      <td></td>\n",
       "      <td></td>\n",
       "      <td></td>\n",
       "      <td></td>\n",
       "      <td></td>\n",
       "      <td></td>\n",
       "      <td></td>\n",
       "      <td></td>\n",
       "    </tr>\n",
       "    <tr>\n",
       "      <th>4</th>\n",
       "      <td>name</td>\n",
       "      <td></td>\n",
       "      <td></td>\n",
       "      <td></td>\n",
       "      <td></td>\n",
       "      <td></td>\n",
       "      <td></td>\n",
       "      <td></td>\n",
       "      <td></td>\n",
       "      <td></td>\n",
       "      <td></td>\n",
       "      <td></td>\n",
       "      <td></td>\n",
       "      <td></td>\n",
       "      <td></td>\n",
       "      <td></td>\n",
       "      <td></td>\n",
       "    </tr>\n",
       "    <tr>\n",
       "      <th>5</th>\n",
       "      <td>unit</td>\n",
       "      <td></td>\n",
       "      <td></td>\n",
       "      <td></td>\n",
       "      <td></td>\n",
       "      <td></td>\n",
       "      <td></td>\n",
       "      <td></td>\n",
       "      <td></td>\n",
       "      <td></td>\n",
       "      <td></td>\n",
       "      <td></td>\n",
       "      <td></td>\n",
       "      <td></td>\n",
       "      <td></td>\n",
       "      <td></td>\n",
       "      <td></td>\n",
       "    </tr>\n",
       "    <tr>\n",
       "      <th>6</th>\n",
       "      <td>header</td>\n",
       "      <td>Country</td>\n",
       "      <td>Year</td>\n",
       "      <td>Rank</td>\n",
       "      <td>Total</td>\n",
       "      <td>C1: Security Apparatus</td>\n",
       "      <td>C2: Factionalized Elites</td>\n",
       "      <td>C3: Group Grievance</td>\n",
       "      <td>E1: Economy</td>\n",
       "      <td>E2: Economic Inequality</td>\n",
       "      <td>E3: Human Flight and Brain Drain</td>\n",
       "      <td>P1: State Legitimacy</td>\n",
       "      <td>P2: Public Services</td>\n",
       "      <td>P3: Human Rights</td>\n",
       "      <td>S1: Demographic Pressures</td>\n",
       "      <td>S2: Refugees and IDPs</td>\n",
       "      <td>X1: External Intervention</td>\n",
       "    </tr>\n",
       "  </tbody>\n",
       "</table>\n",
       "</div>"
      ],
      "text/plain": [
       "            0             1                  2                         3   \\\n",
       "0      dataset           FSI        FSI dataset  data downloaded from FSI   \n",
       "1         role  main subject               time                             \n",
       "2         type       country  %Y-%m-%d %H:%M:%S                             \n",
       "3  description                                                              \n",
       "4         name                                                              \n",
       "5         unit                                                              \n",
       "6       header       Country               Year                      Rank   \n",
       "\n",
       "                               4                       5   \\\n",
       "0  https://fragilestatesindex.org                           \n",
       "1                                                variable   \n",
       "2                                                  number   \n",
       "3                                                           \n",
       "4                                                           \n",
       "5                                                           \n",
       "6                           Total  C1: Security Apparatus   \n",
       "\n",
       "                         6                    7            8   \\\n",
       "0                                                               \n",
       "1                  variable             variable     variable   \n",
       "2                    number               number       number   \n",
       "3                                                               \n",
       "4                                                               \n",
       "5                                                               \n",
       "6  C2: Factionalized Elites  C3: Group Grievance  E1: Economy   \n",
       "\n",
       "                        9                                 10  \\\n",
       "0                                                              \n",
       "1                 variable                          variable   \n",
       "2                   number                            number   \n",
       "3                                                              \n",
       "4                                                              \n",
       "5                                                              \n",
       "6  E2: Economic Inequality  E3: Human Flight and Brain Drain   \n",
       "\n",
       "                     11                   12                13  \\\n",
       "0                                                                \n",
       "1              variable             variable          variable   \n",
       "2                number               number            number   \n",
       "3                                                                \n",
       "4                                                                \n",
       "5                                                                \n",
       "6  P1: State Legitimacy  P2: Public Services  P3: Human Rights   \n",
       "\n",
       "                          14                     15                         16  \n",
       "0                                                                               \n",
       "1                   variable               variable                   variable  \n",
       "2                     number                 number                     number  \n",
       "3                                                                               \n",
       "4                                                                               \n",
       "5                                                                               \n",
       "6  S1: Demographic Pressures  S2: Refugees and IDPs  X1: External Intervention  "
      ]
     },
     "execution_count": 8,
     "metadata": {},
     "output_type": "execute_result"
    }
   ],
   "source": [
    "df_template = get_template(template_path)\n",
    "df_template"
   ]
  },
  {
   "cell_type": "markdown",
   "metadata": {},
   "source": [
    "### Build the pattern of files to be uploaded"
   ]
  },
  {
   "cell_type": "code",
   "execution_count": 9,
   "metadata": {},
   "outputs": [],
   "source": [
    "def generate_targets(datasets_path: str):\n",
    "    patterns = []\n",
    "    if datasets_path.endswith('/'):\n",
    "        datasets_path = datasets_path[:-1]\n",
    "    patterns.append(datasets_path + '/*.csv')\n",
    "    patterns.append(datasets_path + '/*.xlsx')\n",
    "    return patterns\n",
    "\n",
    "patterns = generate_targets(datasets_path)"
   ]
  },
  {
   "cell_type": "markdown",
   "metadata": {},
   "source": [
    "### Build the sheet to be uploaded"
   ]
  },
  {
   "cell_type": "code",
   "execution_count": 10,
   "metadata": {},
   "outputs": [],
   "source": [
    "def get_sheet(filename: str, nCols: int) -> pd.core.frame.DataFrame:\n",
    "    \n",
    "    # Only extract the first nCols columns specified in the template\n",
    "    # Read with headers\n",
    "    sheet = pd.DataFrame()\n",
    "    if filename.endswith('.xlsx'):\n",
    "        sheet = pd.read_excel(filename, dtype=object).fillna('')\n",
    "    elif filename.endswith('.csv'):\n",
    "        sheet = pd.read_csv(filename, encoding='latin1', dtype=object).fillna('')\n",
    "    else:\n",
    "        raise ValueError(f'Not supported type: {filename}')\n",
    "        \n",
    "    sheet = sheet[sheet.columns[:nCols]]\n",
    "    return sheet"
   ]
  },
  {
   "cell_type": "code",
   "execution_count": 11,
   "metadata": {},
   "outputs": [],
   "source": [
    "def get_dataInd(template: pd.core.frame.DataFrame, df: pd.core.frame.DataFrame) -> int:\n",
    "    start_ind = 0\n",
    "    for j in range(len(df_template.columns)):\n",
    "        # Check the variable column only\n",
    "        if df_template.iloc[1,j] == 'variable' and df_template.iloc[2,j] == 'number':\n",
    "            ind = 0\n",
    "            while True:\n",
    "                try:\n",
    "                    float(df.iloc[ind, j])\n",
    "                    break\n",
    "                except:\n",
    "                    ind += 1\n",
    "            start_ind = max(start_ind, ind)\n",
    "    return start_ind"
   ]
  },
  {
   "cell_type": "code",
   "execution_count": 12,
   "metadata": {},
   "outputs": [],
   "source": [
    "dataset_id = df_template.iloc[0,1]\n",
    "# Number of variables to be uploaded, omit the first column (metadata)\n",
    "nCols = len(df_template.iloc[0]) - 1"
   ]
  },
  {
   "cell_type": "code",
   "execution_count": 13,
   "metadata": {},
   "outputs": [],
   "source": [
    "# This sheet holds all the datapoints to be uploaded\n",
    "annotated_sheet = get_template(template_path)\n",
    "add_datatag = False"
   ]
  },
  {
   "cell_type": "code",
   "execution_count": 14,
   "metadata": {
    "scrolled": true
   },
   "outputs": [],
   "source": [
    "for p in patterns:\n",
    "    for filename in glob.iglob(p):\n",
    "        \n",
    "        # Generate the sheet        \n",
    "        sheet = get_sheet(filename, nCols)\n",
    "\n",
    "        # Verify Label matches\n",
    "        if False in sheet.columns == df_template.iloc[6][1:]:\n",
    "            raise ValueError(f'Columns do not match between template and input: {data_path}. Abort...')\n",
    "\n",
    "        # Build inputs\n",
    "        sheet.insert(loc=0, column='', value='')\n",
    "        \n",
    "        # Search for the starting row index of the data segment\n",
    "        data_index = get_dataInd(df_template, sheet)\n",
    "        \n",
    "        if not add_datatag:\n",
    "            sheet.iloc[data_index,0] = 'data'\n",
    "            add_datatag = True\n",
    "\n",
    "        # Build annotated data\n",
    "        sheet.columns = annotated_sheet.columns\n",
    "        annotated_sheet = annotated_sheet.append(sheet[data_index:])"
   ]
  },
  {
   "cell_type": "markdown",
   "metadata": {},
   "source": [
    "### Post the annotated sheet to datamart"
   ]
  },
  {
   "cell_type": "code",
   "execution_count": 15,
   "metadata": {},
   "outputs": [],
   "source": [
    "buffer = io.StringIO()\n",
    "annotated_sheet.to_csv(buffer, index=False, header=False)\n",
    "url = f'{datamart_api_url}/datasets/{dataset_id}/annotated?create_if_not_exist=true'\n",
    "upload_frame_annotated(buffer, url, False)"
   ]
  },
  {
   "cell_type": "markdown",
   "metadata": {},
   "source": [
    "### Check the data has been uploaded"
   ]
  },
  {
   "cell_type": "code",
   "execution_count": 16,
   "metadata": {},
   "outputs": [],
   "source": [
    "from datetime import datetime\n",
    "import matplotlib.pyplot as plt\n",
    "%matplotlib inline"
   ]
  },
  {
   "cell_type": "code",
   "execution_count": 17,
   "metadata": {},
   "outputs": [],
   "source": [
    "q_variable = 'c1_security_apparatus'\n",
    "q_country = 'Gabon'\n",
    "response = get(f'{datamart_api_url}/datasets/{dataset_id}/variables/{q_variable}?country={q_country}')\n",
    "df = pd.read_csv(io.StringIO(response.text))"
   ]
  },
  {
   "cell_type": "code",
   "execution_count": 18,
   "metadata": {},
   "outputs": [],
   "source": [
    "y = df['value']\n",
    "x = df['time'].apply(lambda t: datetime.strptime(t,'%Y-%m-%dT%H:%M:%SZ').year)"
   ]
  },
  {
   "cell_type": "code",
   "execution_count": 19,
   "metadata": {},
   "outputs": [
    {
     "data": {
      "image/png": "[encoded data removed]",
      "text/plain": [
       "<Figure size 432x288 with 1 Axes>"
      ]
     },
     "metadata": {
      "needs_background": "light"
     },
     "output_type": "display_data"
    }
   ],
   "source": [
    "fig, ax = plt.subplots()\n",
    "ax.plot(x, y)\n",
    "\n",
    "ax.set(xlabel='year', ylabel=q_variable, title=f'Trend of {q_variable} of {q_country}')\n",
    "plt.show()"
   ]
  }
 ],
 "metadata": {
  "celltoolbar": "Tags",
  "kernelspec": {
   "display_name": "Python 3",
   "language": "python",
   "name": "python3"
  },
  "language_info": {
   "codemirror_mode": {
    "name": "ipython",
    "version": 3
   },
   "file_extension": ".py",
   "mimetype": "text/x-python",
   "name": "python",
   "nbconvert_exporter": "python",
   "pygments_lexer": "ipython3",
   "version": "3.6.11"
  }
 },
 "nbformat": 4,
 "nbformat_minor": 4
}
