{
 "cells": [
  {
   "cell_type": "code",
   "execution_count": 2,
   "metadata": {},
   "outputs": [],
   "source": [
    "# Datamart server running on localhost in development mode\n",
    "datamart_api_url = 'http://localhost:5000'"
   ]
  },
  {
   "cell_type": "code",
   "execution_count": 3,
   "metadata": {},
   "outputs": [],
   "source": [
    "from requests import get,post,put,delete\n",
    "import json\n",
    "import pandas as pd\n",
    "from io import StringIO\n",
    "from IPython.display import display, HTML"
   ]
  },
  {
   "cell_type": "code",
   "execution_count": 4,
   "metadata": {},
   "outputs": [],
   "source": [
    "import os\n",
    "def upload_data_post(file_path, url):\n",
    "    file_name = os.path.basename(file_path)\n",
    "    files = {\n",
    "        'file': (file_name, open(file_path, mode='rb'), 'application/octet-stream')\n",
    "    }\n",
    "    response = post(url, files=files)\n",
    "\n",
    "    print(json.dumps(response.json(), indent=2))"
   ]
  },
  {
   "cell_type": "code",
   "execution_count": 5,
   "metadata": {},
   "outputs": [
    {
     "name": "stdout",
     "output_type": "stream",
     "text": [
      "[]\n"
     ]
    }
   ],
   "source": [
    "response = get(f'{datamart_api_url}/metadata/datasets/DeleteMe/variables')\n",
    "print(json.dumps(response.json(), indent=2))\n"
   ]
  },
  {
   "cell_type": "code",
   "execution_count": 8,
   "metadata": {},
   "outputs": [
    {
     "name": "stdout",
     "output_type": "stream",
     "text": [
      "[\n",
      "  {\n",
      "    \"Error\": \"No variable un in dataset DeleteMe\"\n",
      "  },\n",
      "  {\n",
      "    \"Error\": \"No variable ingo in dataset DeleteMe\"\n",
      "  }\n",
      "]\n"
     ]
    }
   ],
   "source": [
    "url = f'{datamart_api_url}/datasets/DeleteMe/annotated'\n",
    "file_path = 'test/test_data/03_worker_incidents_tbd.xlsx'\n",
    "upload_data_post(file_path, url)"
   ]
  },
  {
   "cell_type": "code",
   "execution_count": 39,
   "metadata": {},
   "outputs": [
    {
     "data": {
      "text/html": [
       "<table border=\"1\" class=\"dataframe\">\n",
       "  <thead>\n",
       "    <tr style=\"text-align: right;\">\n",
       "      <th>location_id</th>\n",
       "      <th>dataset_id</th>\n",
       "      <th>variable_id</th>\n",
       "      <th>variable</th>\n",
       "      <th>main_subject</th>\n",
       "      <th>main_subject_id</th>\n",
       "      <th>value</th>\n",
       "      <th>value_unit</th>\n",
       "      <th>time</th>\n",
       "      <th>time_precision</th>\n",
       "      <th>country</th>\n",
       "      <th>admin1</th>\n",
       "      <th>admin2</th>\n",
       "      <th>admin3</th>\n",
       "      <th>coordinate</th>\n",
       "      <th>stated_in</th>\n",
       "      <th>stated_in_id</th>\n",
       "      <th>location</th>\n",
       "      <th>stated in</th>\n",
       "    </tr>\n",
       "  </thead>\n",
       "  <tbody>\n",
       "  </tbody>\n",
       "</table>"
      ],
      "text/plain": [
       "<IPython.core.display.HTML object>"
      ]
     },
     "metadata": {},
     "output_type": "display_data"
    }
   ],
   "source": [
    "response = get(f'{datamart_api_url}/datasets/DeleteMe/variables/un')\n",
    "df = pd.read_csv(StringIO(response.text))\n",
    "display(HTML(df.fillna('').to_html(index=False)))"
   ]
  },
  {
   "cell_type": "code",
   "execution_count": 37,
   "metadata": {},
   "outputs": [
    {
     "name": "stdout",
     "output_type": "stream",
     "text": [
      "{\"message\": \"The method is not allowed for the requested URL.\"}\n",
      "\n"
     ]
    }
   ],
   "source": [
    "response = delete(f'{datamart_api_url}/datasets/DeleteMe/variables')\n",
    "print(response.text)\n",
    "# print(json.dumps(response.json(), indent=2))"
   ]
  },
  {
   "cell_type": "code",
   "execution_count": 48,
   "metadata": {},
   "outputs": [
    {
     "name": "stdout",
     "output_type": "stream",
     "text": [
      "{\"Message\": \"Variable: ingo in the dataset: DeleteMe has been deleted.\"}\n",
      "\n"
     ]
    }
   ],
   "source": [
    "response = delete(f'{datamart_api_url}/metadata/datasets/DeleteMe/variables/ingo')\n",
    "print(response.text)\n",
    "# print(json.dumps(response.json(), indent=2))"
   ]
  },
  {
   "cell_type": "code",
   "execution_count": 49,
   "metadata": {},
   "outputs": [
    {
     "name": "stdout",
     "output_type": "stream",
     "text": [
      "0\n",
      "[]\n"
     ]
    }
   ],
   "source": [
    "response = get(f'{datamart_api_url}/metadata/datasets/DeleteMe/variables')\n",
    "print(len(response.json()))\n",
    "print(json.dumps(response.json(), indent=2)) # print only 5 variables"
   ]
  },
  {
   "cell_type": "code",
   "execution_count": null,
   "metadata": {},
   "outputs": [],
   "source": []
  }
 ],
 "metadata": {
  "kernelspec": {
   "display_name": "datamart_env",
   "language": "python",
   "name": "datamart_env"
  },
  "language_info": {
   "codemirror_mode": {
    "name": "ipython",
    "version": 3
   },
   "file_extension": ".py",
   "mimetype": "text/x-python",
   "name": "python",
   "nbconvert_exporter": "python",
   "pygments_lexer": "ipython3",
   "version": "3.6.6"
  }
 },
 "nbformat": 4,
 "nbformat_minor": 4
}
